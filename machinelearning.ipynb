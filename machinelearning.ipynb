{
 "cells": [
  {
   "cell_type": "markdown",
   "metadata": {},
   "source": [
    "Importing necessary libraries"
   ]
  },
  {
   "cell_type": "code",
   "execution_count": 1,
   "metadata": {},
   "outputs": [],
   "source": [
    "import numpy as np\n",
    "import matplotlib.pyplot as plt\n",
    "from tensorflow.keras.datasets import cifar10"
   ]
  },
  {
   "cell_type": "markdown",
   "metadata": {},
   "source": [
    "Loading the CIFAR-10 dataset"
   ]
  },
  {
   "cell_type": "code",
   "execution_count": 2,
   "metadata": {},
   "outputs": [
    {
     "name": "stdout",
     "output_type": "stream",
     "text": [
      "Downloading data from https://www.cs.toronto.edu/~kriz/cifar-10-python.tar.gz\n",
      "170498071/170498071 [==============================] - 111s 1us/step\n"
     ]
    }
   ],
   "source": [
    "(x_train, y_train), (x_test, y_test) = cifar10.load_data()"
   ]
  },
  {
   "cell_type": "markdown",
   "metadata": {},
   "source": [
    "Converting images to grayscale"
   ]
  },
  {
   "cell_type": "code",
   "execution_count": 3,
   "metadata": {},
   "outputs": [],
   "source": [
    "def rgb_to_grayscale(rgb_images):\n",
    "    return np.dot(rgb_images[...,:3], [0.2989, 0.5870, 0.1140])\n",
    "\n",
    "x_train_gray = rgb_to_grayscale(x_train).astype(np.float32)\n",
    "x_test_gray = rgb_to_grayscale(x_test).astype(np.float32)\n"
   ]
  },
  {
   "cell_type": "markdown",
   "metadata": {},
   "source": [
    "Normalizing the data"
   ]
  },
  {
   "cell_type": "code",
   "execution_count": 4,
   "metadata": {},
   "outputs": [],
   "source": [
    "x_train_gray /= 255.0\n",
    "x_test_gray /= 255.0"
   ]
  },
  {
   "cell_type": "markdown",
   "metadata": {},
   "source": [
    "Flatten the images for k-NN"
   ]
  },
  {
   "cell_type": "code",
   "execution_count": 16,
   "metadata": {},
   "outputs": [],
   "source": [
    "x_train_gray_flattened = x_train_gray.reshape(x_train_gray.shape[0], -1)\n",
    "x_test_gray_flattened = x_test_gray.reshape(x_test_gray.shape[0], -1)"
   ]
  },
  {
   "cell_type": "markdown",
   "metadata": {},
   "source": [
    "Checking the shape of y_train and x_train_gray_flattened"
   ]
  },
  {
   "cell_type": "code",
   "execution_count": 17,
   "metadata": {},
   "outputs": [
    {
     "name": "stdout",
     "output_type": "stream",
     "text": [
      "x_train_gray_flattened shape: (50000, 1024)\n",
      "y_train shape: (40000, 1)\n"
     ]
    }
   ],
   "source": [
    "print(\"x_train_gray_flattened shape:\", x_train_gray_flattened.shape)\n",
    "print(\"y_train shape:\", y_train.shape)"
   ]
  },
  {
   "cell_type": "markdown",
   "metadata": {},
   "source": [
    "Adjust x_train_gray_flattened to match y_train in size"
   ]
  },
  {
   "cell_type": "code",
   "execution_count": 19,
   "metadata": {},
   "outputs": [],
   "source": [
    "x_train_gray_flattened_adjusted = x_train_gray_flattened[:y_train.shape[0]]"
   ]
  },
  {
   "cell_type": "code",
   "execution_count": 20,
   "metadata": {},
   "outputs": [
    {
     "name": "stdout",
     "output_type": "stream",
     "text": [
      "Adjusted x_train_gray_flattened shape: (40000, 1024)\n",
      "y_train shape: (40000, 1)\n"
     ]
    }
   ],
   "source": [
    "print(\"Adjusted x_train_gray_flattened shape:\", x_train_gray_flattened_adjusted.shape)\n",
    "print(\"y_train shape:\", y_train.shape)"
   ]
  },
  {
   "cell_type": "markdown",
   "metadata": {},
   "source": [
    "#Model Building with k-NN"
   ]
  },
  {
   "cell_type": "code",
   "execution_count": 18,
   "metadata": {},
   "outputs": [],
   "source": [
    "from sklearn.model_selection import KFold\n",
    "from sklearn.neighbors import KNeighborsClassifier\n",
    "from sklearn.metrics import accuracy_score"
   ]
  },
  {
   "cell_type": "markdown",
   "metadata": {},
   "source": [
    "Initialize variables for storing results"
   ]
  },
  {
   "cell_type": "code",
   "execution_count": 12,
   "metadata": {},
   "outputs": [],
   "source": [
    "k_values = range(1, 6)  # Example range, adjust based on assignment requirements\n",
    "accuracy_l1 = {k: [] for k in k_values}  # For Manhattan distance\n",
    "accuracy_l2 = {k: [] for k in k_values}  # For Euclidean distance"
   ]
  },
  {
   "cell_type": "markdown",
   "metadata": {},
   "source": [
    "5-Fold Cross-Validation"
   ]
  },
  {
   "cell_type": "code",
   "execution_count": 13,
   "metadata": {},
   "outputs": [],
   "source": [
    "kf = KFold(n_splits=5, shuffle=True)"
   ]
  },
  {
   "cell_type": "code",
   "execution_count": 14,
   "metadata": {},
   "outputs": [
    {
     "ename": "IndexError",
     "evalue": "index 40000 is out of bounds for axis 0 with size 40000",
     "output_type": "error",
     "traceback": [
      "\u001b[1;31m---------------------------------------------------------------------------\u001b[0m",
      "\u001b[1;31mIndexError\u001b[0m                                Traceback (most recent call last)",
      "Cell \u001b[1;32mIn[14], line 3\u001b[0m\n\u001b[0;32m      1\u001b[0m \u001b[38;5;28;01mfor\u001b[39;00m train_idx, val_idx \u001b[38;5;129;01min\u001b[39;00m kf\u001b[38;5;241m.\u001b[39msplit(x_train_gray_flattened):\n\u001b[0;32m      2\u001b[0m     X_train_fold, X_val_fold \u001b[38;5;241m=\u001b[39m x_train_gray_flattened[train_idx], x_train_gray_flattened[val_idx]\n\u001b[1;32m----> 3\u001b[0m     y_train_fold, y_val_fold \u001b[38;5;241m=\u001b[39m \u001b[43my_train\u001b[49m\u001b[43m[\u001b[49m\u001b[43mtrain_idx\u001b[49m\u001b[43m]\u001b[49m, y_train[val_idx]\n\u001b[0;32m      5\u001b[0m     \u001b[38;5;28;01mfor\u001b[39;00m k \u001b[38;5;129;01min\u001b[39;00m k_values:\n\u001b[0;32m      6\u001b[0m         \u001b[38;5;66;03m# Manhattan distance\u001b[39;00m\n\u001b[0;32m      7\u001b[0m         knn_l1 \u001b[38;5;241m=\u001b[39m KNeighborsClassifier(n_neighbors\u001b[38;5;241m=\u001b[39mk, p\u001b[38;5;241m=\u001b[39m\u001b[38;5;241m1\u001b[39m)\n",
      "\u001b[1;31mIndexError\u001b[0m: index 40000 is out of bounds for axis 0 with size 40000"
     ]
    }
   ],
   "source": [
    "for train_idx, val_idx in kf.split(x_train_gray_flattened):\n",
    "    X_train_fold, X_val_fold = x_train_gray_flattened[train_idx], x_train_gray_flattened[val_idx]\n",
    "    y_train_fold, y_val_fold = y_train[train_idx], y_train[val_idx]\n",
    "\n",
    "    for k in k_values:\n",
    "        # Manhattan distance\n",
    "        knn_l1 = KNeighborsClassifier(n_neighbors=k, p=1)\n",
    "        knn_l1.fit(X_train_fold, y_train_fold.ravel())  # Flatten y_train for fitting\n",
    "        predictions_l1 = knn_l1.predict(X_val_fold)\n",
    "        accuracy_l1[k].append(accuracy_score(y_val_fold, predictions_l1))\n",
    "\n",
    "        # Euclidean distance\n",
    "        knn_l2 = KNeighborsClassifier(n_neighbors=k, p=2)\n",
    "        knn_l2.fit(X_train_fold, y_train_fold.ravel())  # Flatten y_train for fitting\n",
    "        predictions_l2 = knn_l2.predict(X_val_fold)\n",
    "        accuracy_l2[k].append(accuracy_score(y_val_fold, predictions_l2))\n"
   ]
  }
 ],
 "metadata": {
  "kernelspec": {
   "display_name": "tf_gpu",
   "language": "python",
   "name": "python3"
  },
  "language_info": {
   "codemirror_mode": {
    "name": "ipython",
    "version": 3
   },
   "file_extension": ".py",
   "mimetype": "text/x-python",
   "name": "python",
   "nbconvert_exporter": "python",
   "pygments_lexer": "ipython3",
   "version": "3.9.18"
  }
 },
 "nbformat": 4,
 "nbformat_minor": 2
}
