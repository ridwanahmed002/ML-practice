{
 "cells": [
  {
   "cell_type": "code",
   "execution_count": 4,
   "metadata": {},
   "outputs": [
    {
     "data": {
      "text/plain": [
       "False"
      ]
     },
     "execution_count": 4,
     "metadata": {},
     "output_type": "execute_result"
    }
   ],
   "source": [
    "4==4\n",
    "4!=4"
   ]
  },
  {
   "cell_type": "markdown",
   "metadata": {},
   "source": [
    "Its just a example of for loop"
   ]
  },
  {
   "cell_type": "code",
   "execution_count": 3,
   "metadata": {},
   "outputs": [
    {
     "name": "stdout",
     "output_type": "stream",
     "text": [
      "3530\n"
     ]
    }
   ],
   "source": [
    "cost = [230,300,400,500,600,700,800]\n",
    "\n",
    "total = 0\n",
    "for i in cost:\n",
    "    total += i\n",
    "\n",
    "print(total)\n",
    "\n",
    "    "
   ]
  },
  {
   "cell_type": "markdown",
   "metadata": {},
   "source": [
    "Function"
   ]
  },
  {
   "cell_type": "code",
   "execution_count": 2,
   "metadata": {},
   "outputs": [
    {
     "name": "stdout",
     "output_type": "stream",
     "text": [
      "3620\n",
      "asifs totl:  3720\n"
     ]
    }
   ],
   "source": [
    "def calculate_total(cost):\n",
    "    total = 0\n",
    "    for i in cost:\n",
    "        total += i\n",
    "    return total\n",
    "\n",
    "arman = [120,200,300,400,500,600,700,800]\n",
    "asif = [120,200,300,400,500,600,700,900]\n",
    "\n",
    "print(calculate_total(arman))\n",
    "print(\"asifs totl: \",calculate_total(asif))"
   ]
  },
  {
   "cell_type": "markdown",
   "metadata": {},
   "source": [
    "# Python Lists, Tuples, Dictionaries, & Sets\n",
    "\n",
    "List\n",
    "\n",
    "items are stored sequentially\n",
    "Lists are mutable\n",
    "can hold on to different data types\n",
    "all value has similar meaning   \n",
    "use square brackets [] to create a list\n",
    "\n",
    "Tuple\n",
    "\n",
    "ordered list of values\n",
    "immutable\n",
    "can be used as KEYs in a dictionary or elements of a SET.\n",
    "all value has different meaning\n",
    "use () to create a tuple\n",
    "\n",
    "Sets\n",
    "\n",
    "unordered list of values\n",
    "depts = {\"MBA\",\"EEE\",\"BBA\",\"ARCHI\"}\n",
    "\n",
    "Maps/Dictionaries/Hash Tables\n",
    "\n",
    "std = {'mahedi': 93.77, 'rabbi': 94.00, 'ahsan': 92.5}\n",
    "print(std, type(std))  //{'mahedi': 93.77, 'rabbi': 94.0, 'ahsan': 92.5} <class 'dict'>\n",
    "print(std['rabbi'])  //94.0"
   ]
  },
  {
   "cell_type": "code",
   "execution_count": 3,
   "metadata": {},
   "outputs": [
    {
     "name": "stdout",
     "output_type": "stream",
     "text": [
      "person\n",
      "cat\n",
      "dog\n",
      "spider\n"
     ]
    }
   ],
   "source": [
    "d = {'person': 2, 'cat': 4, 'dog': 4, 'spider': 8}\n",
    "for obs in d:\n",
    "    print(obs)"
   ]
  }
 ],
 "metadata": {
  "kernelspec": {
   "display_name": "Python 3",
   "language": "python",
   "name": "python3"
  },
  "language_info": {
   "codemirror_mode": {
    "name": "ipython",
    "version": 3
   },
   "file_extension": ".py",
   "mimetype": "text/x-python",
   "name": "python",
   "nbconvert_exporter": "python",
   "pygments_lexer": "ipython3",
   "version": "3.10.12"
  }
 },
 "nbformat": 4,
 "nbformat_minor": 2
}
